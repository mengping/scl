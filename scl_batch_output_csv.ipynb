{
 "cells": [
  {
   "cell_type": "code",
   "execution_count": 1,
   "metadata": {},
   "outputs": [],
   "source": [
    "import pandas as pd\n",
    "import numpy as np\n",
    "import openpyxl"
   ]
  },
  {
   "cell_type": "code",
   "execution_count": 10,
   "metadata": {},
   "outputs": [],
   "source": [
    "#def a function to read files and print csv\n",
    "\n",
    "def data_dump(output,path):\n",
    "    xlsx_path = path + output\n",
    "    output_tmp = output.split('_',3)[3]\n",
    "    output_tab = output_tmp.split('.',2)[0]\n",
    "    output_csv = output_tab + '.csv'\n",
    "    xlsx = pd.ExcelFile(xlsx_path)\n",
    "    tmp = xlsx.parse(sheet_name=output_tab)\n",
    "    tmp.to_csv('output/'+ output_csv,index = False,encoding=\"utf-8\")\n",
    " #   print(tmp)"
   ]
  },
  {
   "cell_type": "code",
   "execution_count": 5,
   "metadata": {},
   "outputs": [],
   "source": [
    "#get a list of only xlsx files, remove Word doc etc.\n",
    "\n",
    "import glob\n",
    "import os\n",
    "\n",
    "files = []\n",
    "for file in glob.glob(\"data/*.xlsx\"):\n",
    "    file_absolute = os.path.basename(file)\n",
    "    files.append(file_absolute)\n",
    "    \n",
    "#files"
   ]
  },
  {
   "cell_type": "code",
   "execution_count": 11,
   "metadata": {},
   "outputs": [],
   "source": [
    "#update path to real path where data is stored \n",
    "\n",
    "path = 'data/'\n",
    "for i in range(len(files)):\n",
    "    data_dump(files[i],path)"
   ]
  }
 ],
 "metadata": {
  "kernelspec": {
   "display_name": "Python 3",
   "language": "python",
   "name": "python3"
  },
  "language_info": {
   "codemirror_mode": {
    "name": "ipython",
    "version": 3
   },
   "file_extension": ".py",
   "mimetype": "text/x-python",
   "name": "python",
   "nbconvert_exporter": "python",
   "pygments_lexer": "ipython3",
   "version": "3.8.3"
  }
 },
 "nbformat": 4,
 "nbformat_minor": 4
}
