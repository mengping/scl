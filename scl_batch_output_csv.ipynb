{
 "cells": [
  {
   "cell_type": "code",
   "execution_count": null,
   "metadata": {},
   "outputs": [],
   "source": [
    "import pandas as pd\n",
    "import numpy as np\n",
    "import openpyxl"
   ]
  },
  {
   "cell_type": "code",
   "execution_count": null,
   "metadata": {},
   "outputs": [],
   "source": [
    "#get file locations\n",
    "#export file list to Excel from sharepoint folder as export.xlsx\n",
    "wb = openpyxl.load_workbook('export.xlsx')\n",
    "print(wb.sheetnames)\n",
    "ws = wb['query (1)']"
   ]
  },
  {
   "cell_type": "code",
   "execution_count": null,
   "metadata": {},
   "outputs": [],
   "source": [
    "#get a list of xlsx files, remove Word doc\n",
    "output = []\n",
    "for row in ws.iter_rows(min_row=2,max_col=1):\n",
    "    tmp = row[0].value\n",
    "    if tmp.split('.',1)[1] =='xlsx':\n",
    "        output.append(tmp)\n",
    "pd.DataFrame(output)        \n",
    "        \n",
    "#output"
   ]
  },
  {
   "cell_type": "code",
   "execution_count": null,
   "metadata": {},
   "outputs": [],
   "source": [
    "#def a function to read files and print csv\n",
    "def data_dump(output,path):\n",
    "    xlsx_path = path + output\n",
    "    output_tmp = output.split('_',3)[3]\n",
    "    output_tab = output_tmp.split('.',2)[0]\n",
    "    output_csv = output_tab + '.csv'\n",
    "    xlsx = pd.ExcelFile(xlsx_path)\n",
    "    tmp = xlsx.parse(sheet_name=output_tab)\n",
    "    tmp.to_csv('output/'+ output_csv,index = False)\n",
    " #   print(tmp)"
   ]
  },
  {
   "cell_type": "code",
   "execution_count": null,
   "metadata": {},
   "outputs": [],
   "source": [
    "#update path to real path where data is stored \n",
    "path = '/Data collection/Finance/'\n",
    "for i in range(len(output)):\n",
    "    data_dump(output[i],path)"
   ]
  }
 ],
 "metadata": {
  "kernelspec": {
   "display_name": "Python 3",
   "language": "python",
   "name": "python3"
  },
  "language_info": {
   "codemirror_mode": {
    "name": "ipython",
    "version": 3
   },
   "file_extension": ".py",
   "mimetype": "text/x-python",
   "name": "python",
   "nbconvert_exporter": "python",
   "pygments_lexer": "ipython3",
   "version": "3.8.3"
  }
 },
 "nbformat": 4,
 "nbformat_minor": 4
}
